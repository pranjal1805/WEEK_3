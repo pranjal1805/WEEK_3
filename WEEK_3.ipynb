{
 "cells": [
  {
   "cell_type": "code",
   "execution_count": 185,
   "id": "a5fea7e0",
   "metadata": {},
   "outputs": [],
   "source": [
    "from scipy.spatial import distance as dist\n",
    "from imutils import perspective\n",
    "from imutils import contours\n",
    "import numpy as np\n",
    "import argparse\n",
    "import imutils\n",
    "import cv2"
   ]
  },
  {
   "cell_type": "code",
   "execution_count": 186,
   "id": "bc7be6ec",
   "metadata": {},
   "outputs": [],
   "source": [
    "def midpoint(ptA, ptB):\n",
    "    return ((ptA[0] + ptB[0]) * 0.5, (ptA[1] + ptB[1]) * 0.5)"
   ]
  },
  {
   "cell_type": "code",
   "execution_count": 187,
   "id": "466e95c6",
   "metadata": {},
   "outputs": [],
   "source": [
    "image = cv2.imread('5.jpg')\n",
    "gray = cv2.cvtColor(image, cv2.COLOR_BGR2GRAY)\n",
    "gray = cv2.GaussianBlur(gray, (7, 7), 0)"
   ]
  },
  {
   "cell_type": "code",
   "execution_count": 188,
   "id": "985235eb",
   "metadata": {},
   "outputs": [],
   "source": [
    "edged = cv2.Canny(gray, 50, 100)\n",
    "edged = cv2.dilate(edged, None, iterations=1)\n",
    "edged = cv2.erode(edged, None, iterations=1)"
   ]
  },
  {
   "cell_type": "code",
   "execution_count": 189,
   "id": "407a51bf",
   "metadata": {},
   "outputs": [],
   "source": [
    "cnts = cv2.findContours(edged.copy(), cv2.RETR_EXTERNAL,\n",
    "                        cv2.CHAIN_APPROX_SIMPLE)\n",
    "cnts = imutils.grab_contours(cnts)\n"
   ]
  },
  {
   "cell_type": "code",
   "execution_count": 190,
   "id": "be0cec38",
   "metadata": {},
   "outputs": [],
   "source": [
    "(cnts, _) = contours.sort_contours(cnts)\n",
    "colors = ((40, 255, 19), (253, 239, 239), (200, 149, 149), (185, 128, 240),\n",
    "          (255, 0, 255))\n",
    "refObj = None"
   ]
  },
  {
   "cell_type": "code",
   "execution_count": 191,
   "id": "7351a1fd",
   "metadata": {},
   "outputs": [],
   "source": [
    "for c in cnts:\n",
    "    if cv2.contourArea(c) < 100:\n",
    "        continue\n",
    "    box = cv2.minAreaRect(c)\n",
    "    box = cv2.cv.BoxPoints(box) if imutils.is_cv2() else cv2.boxPoints(box)\n",
    "    box = np.array(box, dtype=\"int\")\n",
    "    box = perspective.order_points(box)\n",
    "    cX = np.average(box[:, 0])\n",
    "    cY = np.average(box[:, 1])\n",
    "    if refObj is None:\n",
    "        (tl, tr, br, bl) = box\n",
    "        (tlblX, tlblY) = midpoint(tl, bl)\n",
    "        (trbrX, trbrY) = midpoint(tr, br)\n",
    "        D = dist.euclidean((tlblX, tlblY), (trbrX, trbrY))\n",
    "        refObj = (box, (cX, cY), D / 70)\n",
    "        continue\n",
    "    orig = image.copy()\n",
    "    cv2.drawContours(orig, [box.astype(\"int\")], -1, (0, 255, 0), 2)\n",
    "    cv2.drawContours(orig, [refObj[0].astype(\"int\")], -1, (0, 255, 0), 2)\n",
    "    refCoords = np.vstack([refObj[0], refObj[1]])\n",
    "    objCoords = np.vstack([box, (cX, cY)])"
   ]
  },
  {
   "cell_type": "code",
   "execution_count": 192,
   "id": "23011d2e",
   "metadata": {},
   "outputs": [],
   "source": [
    "for ((xA, yA), (xB, yB), color) in zip(refCoords, objCoords, colors):\n",
    "        cv2.circle(orig, (int(xA), int(yA)), 5, color, -1)\n",
    "        cv2.circle(orig, (int(xB), int(yB)), 5, color, -1)\n",
    "        cv2.line(orig, (int(xA), int(yA)), (int(xB), int(yB)),\n",
    "                 color, 2)\n",
    "        D = dist.euclidean((xA, yA), (xB, yB)) / refObj[2]\n",
    "        (mX, mY) = midpoint((xA, yA), (xB, yB))\n",
    "        cv2.putText(orig, \"{:.1f}mm\".format(D), (int(mX), int(mY - 10)),\n",
    "                    cv2.FONT_HERSHEY_SIMPLEX, 0.55, color, 2)\n",
    "        cv2.resizeWindow(\"win_name\", 200, 200)\n",
    "        cv2.imshow(\"Image\", orig)\n",
    "        cv2.waitKey(0)\n",
    "        filename = 'savedImage.jpg'\n",
    "        cv2.imwrite(filename, orig)\n",
    "  \n",
    "cv2.destroyAllWindows()"
   ]
  },
  {
   "cell_type": "code",
   "execution_count": null,
   "id": "21fdbf8b",
   "metadata": {},
   "outputs": [],
   "source": []
  },
  {
   "cell_type": "code",
   "execution_count": null,
   "id": "a3331252",
   "metadata": {},
   "outputs": [],
   "source": []
  },
  {
   "cell_type": "code",
   "execution_count": null,
   "id": "0d3dcc3a",
   "metadata": {},
   "outputs": [],
   "source": []
  },
  {
   "cell_type": "code",
   "execution_count": null,
   "id": "6099bc8d",
   "metadata": {},
   "outputs": [],
   "source": []
  }
 ],
 "metadata": {
  "kernelspec": {
   "display_name": "Python 3",
   "language": "python",
   "name": "python3"
  },
  "language_info": {
   "codemirror_mode": {
    "name": "ipython",
    "version": 3
   },
   "file_extension": ".py",
   "mimetype": "text/x-python",
   "name": "python",
   "nbconvert_exporter": "python",
   "pygments_lexer": "ipython3",
   "version": "3.8.8"
  }
 },
 "nbformat": 4,
 "nbformat_minor": 5
}
